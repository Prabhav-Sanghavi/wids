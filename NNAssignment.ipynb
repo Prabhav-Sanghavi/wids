{
 "cells": [
  {
   "cell_type": "code",
   "execution_count": 1,
   "metadata": {},
   "outputs": [],
   "source": [
    "import torch\n",
    "import torch.nn as nn\n",
    "import torch.optim as optim\n",
    "import torchvision.transforms as transforms\n",
    "import torch.optim as optim\n"
   ]
  },
  {
   "cell_type": "code",
   "execution_count": 2,
   "metadata": {},
   "outputs": [],
   "source": [
    "import tensorflow as tf\n",
    "from tensorflow import keras\n",
    "from keras import layers\n",
    "from keras.layers import Dense, Conv2D, Flatten, MaxPooling2D, Dropout\n",
    "from tensorflow.keras.preprocessing.image import ImageDataGenerator\n",
    "from tensorflow.keras.models import Sequential\n",
    "from tensorflow.keras.utils import image_dataset_from_directory \n",
    "from sklearn.model_selection import train_test_split\n",
    "import numpy as np  "
   ]
  },
  {
   "cell_type": "code",
   "execution_count": 3,
   "metadata": {},
   "outputs": [],
   "source": [
    "image_size = (64, 64)\n",
    "batch_size = 32"
   ]
  },
  {
   "cell_type": "code",
   "execution_count": 4,
   "metadata": {},
   "outputs": [
    {
     "name": "stderr",
     "output_type": "stream",
     "text": [
      "a:\\cli\\python37\\Lib\\site-packages\\keras\\src\\layers\\core\\dense.py:87: UserWarning: Do not pass an `input_shape`/`input_dim` argument to a layer. When using Sequential models, prefer using an `Input(shape)` object as the first layer in the model instead.\n",
      "  super().__init__(activity_regularizer=activity_regularizer, **kwargs)\n"
     ]
    }
   ],
   "source": [
    "model = keras.Sequential(\n",
    "    [\n",
    "        Dense(128, activation='relu', input_shape=(64, 64, 3)),\n",
    "        Dense(64, activation='relu'),\n",
    "        Flatten(),\n",
    "        Dense(2, activation='sigmoid')\n",
    "    ]\n",
    ")"
   ]
  },
  {
   "cell_type": "code",
   "execution_count": 5,
   "metadata": {},
   "outputs": [
    {
     "name": "stdout",
     "output_type": "stream",
     "text": [
      "Found 269 files belonging to 2 classes.\n"
     ]
    }
   ],
   "source": [
    "dataset_dir = r\"A:\\cli\\numpy\\week-2-wids\\homer_bart\"\n",
    "dataset = image_dataset_from_directory(dataset_dir,\n",
    "                                        shuffle=True, \n",
    "                                        batch_size=batch_size, \n",
    "                                        image_size=image_size, \n",
    "                                        label_mode='int',  \n",
    "                                        color_mode='rgb',\n",
    "                                        seed=123,\n",
    "                                        )\n"
   ]
  },
  {
   "cell_type": "code",
   "execution_count": 6,
   "metadata": {},
   "outputs": [
    {
     "name": "stdout",
     "output_type": "stream",
     "text": [
      "Epoch 1/25\n",
      "8/8 - 1s - 169ms/step - accuracy: 0.5547 - loss: 1308.4518\n",
      "Epoch 2/25\n",
      "8/8 - 1s - 64ms/step - accuracy: 0.5508 - loss: 338.3351\n",
      "Epoch 3/25\n",
      "8/8 - 1s - 68ms/step - accuracy: 0.7539 - loss: 117.7935\n",
      "Epoch 4/25\n",
      "8/8 - 1s - 67ms/step - accuracy: 0.8320 - loss: 31.1653\n",
      "Epoch 5/25\n",
      "8/8 - 1s - 65ms/step - accuracy: 0.8203 - loss: 17.8559\n",
      "Epoch 6/25\n",
      "8/8 - 1s - 63ms/step - accuracy: 0.8945 - loss: 6.5579\n",
      "Epoch 7/25\n",
      "8/8 - 0s - 61ms/step - accuracy: 0.9336 - loss: 2.6542\n",
      "Epoch 8/25\n",
      "8/8 - 1s - 67ms/step - accuracy: 0.9453 - loss: 1.2727\n",
      "Epoch 9/25\n",
      "8/8 - 1s - 64ms/step - accuracy: 0.9648 - loss: 0.7169\n",
      "Epoch 10/25\n",
      "8/8 - 1s - 64ms/step - accuracy: 0.9844 - loss: 0.1679\n",
      "Epoch 11/25\n",
      "8/8 - 1s - 66ms/step - accuracy: 0.9922 - loss: 0.0899\n",
      "Epoch 12/25\n",
      "8/8 - 1s - 64ms/step - accuracy: 0.9922 - loss: 0.0487\n",
      "Epoch 13/25\n",
      "8/8 - 1s - 64ms/step - accuracy: 0.9961 - loss: 0.0073\n",
      "Epoch 14/25\n",
      "8/8 - 0s - 61ms/step - accuracy: 0.9922 - loss: 0.0096\n",
      "Epoch 15/25\n",
      "8/8 - 1s - 64ms/step - accuracy: 1.0000 - loss: 4.1836e-04\n",
      "Epoch 16/25\n",
      "8/8 - 1s - 64ms/step - accuracy: 1.0000 - loss: 3.2946e-05\n",
      "Epoch 17/25\n",
      "8/8 - 1s - 66ms/step - accuracy: 1.0000 - loss: 3.1888e-05\n",
      "Epoch 18/25\n",
      "8/8 - 0s - 62ms/step - accuracy: 1.0000 - loss: 3.7628e-05\n",
      "Epoch 19/25\n",
      "8/8 - 0s - 61ms/step - accuracy: 1.0000 - loss: 8.0884e-06\n",
      "Epoch 20/25\n",
      "8/8 - 0s - 62ms/step - accuracy: 0.9922 - loss: 0.0396\n",
      "Epoch 21/25\n",
      "8/8 - 0s - 57ms/step - accuracy: 1.0000 - loss: 1.4480e-05\n",
      "Epoch 22/25\n",
      "8/8 - 0s - 57ms/step - accuracy: 1.0000 - loss: 1.9603e-05\n",
      "Epoch 23/25\n",
      "8/8 - 0s - 56ms/step - accuracy: 1.0000 - loss: 3.3477e-04\n",
      "Epoch 24/25\n",
      "8/8 - 0s - 57ms/step - accuracy: 1.0000 - loss: 0.0011\n",
      "Epoch 25/25\n",
      "8/8 - 0s - 56ms/step - accuracy: 1.0000 - loss: 1.2663e-05\n",
      "1/1 - 0s - 141ms/step - accuracy: 1.0000 - loss: 0.0000e+00\n",
      "Epoch:  0\n",
      "Training Loss:  1308.4517822265625\n",
      "Training Accuracy:  0.5546875\n",
      "Epoch:  1\n",
      "Training Loss:  338.3350524902344\n",
      "Training Accuracy:  0.55078125\n",
      "Epoch:  2\n",
      "Training Loss:  117.79352569580078\n",
      "Training Accuracy:  0.75390625\n",
      "Epoch:  3\n",
      "Training Loss:  31.165307998657227\n",
      "Training Accuracy:  0.83203125\n",
      "Epoch:  4\n",
      "Training Loss:  17.855857849121094\n",
      "Training Accuracy:  0.8203125\n",
      "Epoch:  5\n",
      "Training Loss:  6.557927131652832\n",
      "Training Accuracy:  0.89453125\n",
      "Epoch:  6\n",
      "Training Loss:  2.6542093753814697\n",
      "Training Accuracy:  0.93359375\n",
      "Epoch:  7\n",
      "Training Loss:  1.2727370262145996\n",
      "Training Accuracy:  0.9453125\n",
      "Epoch:  8\n",
      "Training Loss:  0.7169239521026611\n",
      "Training Accuracy:  0.96484375\n",
      "Epoch:  9\n",
      "Training Loss:  0.16785216331481934\n",
      "Training Accuracy:  0.984375\n"
     ]
    }
   ],
   "source": [
    "train_dataset = dataset.take(int(len(dataset)*0.9))\n",
    "test_dataset = dataset.skip(int(len(dataset)*0.9))\n",
    "\n",
    "def augment(x, y):\n",
    "    image = tf.image.random_brightness(x, max_delta=0.05)\n",
    "    return image, y\n",
    "train_dataset = train_dataset.map(augment)       \n",
    "\n",
    "optimizer = keras.optimizers.Adam(learning_rate=0.001)\n",
    "loss = keras.losses.SparseCategoricalCrossentropy()\n",
    "model.compile(optimizer=optimizer, loss= loss, metrics=['accuracy'])\n",
    "\n",
    "history = model.fit(train_dataset, epochs=25, verbose=2)\n",
    "model.evaluate(test_dataset, verbose=2)\n",
    "\n",
    "for epoch in range(10):\n",
    "    print(\"Epoch: \", epoch)\n",
    "    print(\"Training Loss: \", history.history['loss'][epoch])\n",
    "    print(\"Training Accuracy: \", history.history['accuracy'][epoch])\n",
    "   "
   ]
  },
  {
   "cell_type": "code",
   "execution_count": 7,
   "metadata": {},
   "outputs": [
    {
     "name": "stdout",
     "output_type": "stream",
     "text": [
      "\u001b[1m1/1\u001b[0m \u001b[32m━━━━━━━━━━━━━━━━━━━━\u001b[0m\u001b[37m\u001b[0m \u001b[1m0s\u001b[0m 61ms/step\n",
      "[[1.0000000e+00 1.8560381e-27]\n",
      " [1.0000000e+00 1.5168496e-19]\n",
      " [1.3042691e-05 1.0000000e+00]\n",
      " [1.7007701e-01 9.9998897e-01]\n",
      " [1.0000000e+00 0.0000000e+00]\n",
      " [6.3072895e-07 1.0000000e+00]\n",
      " [0.0000000e+00 1.0000000e+00]\n",
      " [1.0000000e+00 0.0000000e+00]\n",
      " [1.0000000e+00 5.8933980e-18]\n",
      " [1.0000000e+00 0.0000000e+00]\n",
      " [1.0000000e+00 9.3048384e-21]\n",
      " [0.0000000e+00 1.0000000e+00]\n",
      " [1.0000000e+00 0.0000000e+00]]\n",
      "tf.Tensor([0 0 1 1 0 1 1 0 0 0 0 1 0], shape=(13,), dtype=int32)\n",
      "Accuracy:  100.0\n"
     ]
    }
   ],
   "source": [
    "def predict(test_dataset):\n",
    "    for image, label in test_dataset:\n",
    "        predictions = model.predict(image)\n",
    "        print(predictions)\n",
    "        print(label)\n",
    "        accuracy = np.mean(np.argmax(predictions, axis=1) == label)*100\n",
    "        print(\"Accuracy: \", accuracy)\n",
    "        break\n",
    "predict(test_dataset)"
   ]
  }
 ],
 "metadata": {
  "kernelspec": {
   "display_name": "Python 3",
   "language": "python",
   "name": "python3"
  },
  "language_info": {
   "codemirror_mode": {
    "name": "ipython",
    "version": 3
   },
   "file_extension": ".py",
   "mimetype": "text/x-python",
   "name": "python",
   "nbconvert_exporter": "python",
   "pygments_lexer": "ipython3",
   "version": "3.12.2"
  }
 },
 "nbformat": 4,
 "nbformat_minor": 2
}
