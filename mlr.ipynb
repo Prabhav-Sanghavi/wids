{
 "cells": [
  {
   "cell_type": "code",
   "execution_count": 4,
   "id": "bef7650c",
   "metadata": {},
   "outputs": [],
   "source": [
    "import numpy as np\n",
    "import pandas as pd\n",
    "import matplotlib.pyplot as plt\n"
   ]
  },
  {
   "cell_type": "code",
   "execution_count": 5,
   "id": "e9bea78c",
   "metadata": {},
   "outputs": [],
   "source": [
    "data = pd.read_excel('Training data.xlsx')\n",
    "x_train = np.array(data.iloc[:,0:8])\n",
    "y_train = np.array(data.iloc[:,8]).reshape(-1,1)"
   ]
  },
  {
   "cell_type": "code",
   "execution_count": 6,
   "id": "6c8d5812",
   "metadata": {},
   "outputs": [],
   "source": [
    "def feature_changing(x_train):\n",
    "  x_train[:, 0] = np.where(x_train[:, 0] == \"yes\", 1, 0)\n",
    "  x_train[:, 1] = np.where(x_train[:, 1] == \"M\", 1, 0)\n",
    "  return x_train\n",
    "\n",
    "x_train = feature_changing(x_train)\n"
   ]
  },
  {
   "cell_type": "code",
   "execution_count": 7,
   "id": "e14246b5",
   "metadata": {},
   "outputs": [],
   "source": [
    "def z_score(x_train):\n",
    "    x_mean = np.mean(x_train, axis=0)\n",
    "    x_std = np.std(x_train, axis=0)\n",
    "    x_train = (x_train - x_mean) / x_std\n",
    "  \n",
    "    return x_train,x_std,x_mean"
   ]
  },
  {
   "cell_type": "code",
   "execution_count": 8,
   "id": "983a9f28",
   "metadata": {},
   "outputs": [],
   "source": [
    "def cost(x_train,y_train,w,b):\n",
    "  m = x_train.shape[0] \n",
    "  fwb = []\n",
    "  fwb = np.dot(x_train, w) + b \n",
    "  cost = np.sum((fwb - y_train) ** 2)\n",
    "  loss = (1/(2 * m)) * cost\n",
    "  \n",
    "  return loss"
   ]
  },
  {
   "cell_type": "code",
   "execution_count": 9,
   "id": "5e03dc05",
   "metadata": {},
   "outputs": [],
   "source": [
    "def gradient_descent(x_train, y_train, w, b, alpha):\n",
    "    m, n = x_train.shape  \n",
    "    dj_dw = np.zeros(n)  \n",
    "    dj_db = 0  \n",
    "    for i in range(m):\n",
    "         err = np.dot(x_train[i, :], w) + b - y_train[i]\n",
    "        \n",
    "         dj_dw += err * x_train[i, :] \n",
    "         dj_db += err \n",
    "    dj_dw = dj_dw / m\n",
    "    dj_db = dj_db / m\n",
    "\n",
    "    dj_dw = dj_dw.reshape(-1, 1)\n",
    "    w -= alpha * dj_dw\n",
    "    b -= alpha * dj_db\n",
    "\n",
    "    return w, b\n",
    "\n",
    "\n",
    "   "
   ]
  },
  {
   "cell_type": "code",
   "execution_count": 10,
   "id": "d8ebf9a9",
   "metadata": {},
   "outputs": [
    {
     "name": "stdout",
     "output_type": "stream",
     "text": [
      "Congratulations, your accuracy is 100.0%\n"
     ]
    }
   ],
   "source": [
    "x_train = x_train.astype(np.float64)\n",
    "x_train,x_std,x_mean = z_score(x_train)\n",
    "\n",
    "np.random.seed(2147483647)\n",
    "w = np.random.randn(x_train.shape[1],1)\n",
    "\n",
    "b = np.random.randn(1)\n",
    "\n",
    "\n",
    "old_cost = float('inf')\n",
    "tolerance = 0.00001\n",
    "while abs(old_cost - cost(x_train, y_train, w, b)) > tolerance:\n",
    "    old_cost = cost(x_train, y_train, w, b)\n",
    "    w, b = gradient_descent(x_train, y_train, w, b, alpha=0.01)\n",
    "\n",
    "x_predict = pd.read_excel('Test data.xlsx').iloc[:,:8].to_numpy()\n",
    "x_predict = feature_changing(x_predict)\n",
    "x_predict = (x_predict - x_mean)/x_std\n",
    "ans = pd.read_excel('Test data.xlsx').iloc[:,8].to_numpy()\n",
    "\n",
    "y_predict = np.dot(x_predict,w) + b\n",
    "\n",
    "accuracy = 0\n",
    "for dim in range(len(ans)):\n",
    "  if abs(y_predict[dim]-ans[dim])<0.5:\n",
    "    accuracy += 1\n",
    "accuracy = round(accuracy*100/(len(ans)),2)\n",
    "ok = 'Congratulations' if accuracy>95 else 'Optimization required'\n",
    "print(f\"{ok}, your accuracy is {accuracy}%\")"
   ]
  }
 ],
 "metadata": {
  "kernelspec": {
   "display_name": "Python 3",
   "language": "python",
   "name": "python3"
  },
  "language_info": {
   "codemirror_mode": {
    "name": "ipython",
    "version": 3
   },
   "file_extension": ".py",
   "mimetype": "text/x-python",
   "name": "python",
   "nbconvert_exporter": "python",
   "pygments_lexer": "ipython3",
   "version": "3.12.2"
  }
 },
 "nbformat": 4,
 "nbformat_minor": 5
}
